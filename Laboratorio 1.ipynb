{
 "cells": [
  {
   "cell_type": "markdown",
   "id": "1901ef66",
   "metadata": {},
   "source": [
    "# Laboratorio 1\n",
    "\n",
    "## Inversión pasiva y activa"
   ]
  },
  {
   "cell_type": "markdown",
   "id": "86964b2a",
   "metadata": {},
   "source": [
    "### Objetivo del trabajo\n",
    "Evaluar y elaborar estrategias de inversión a un cierto plazo determinado, los tipos de inversiones son: **pasiva** y **activa**. En cuanto a la *pasiva* esta no tendrá movimiento en cuanto a compra o venta de titulos, ya que estos permaneceran en el mismo numero de principio a fin; en cambio la *activa* tendrá rebalanceo a partir de ciertos criterios y a partir de cierta fecha."
   ]
  },
  {
   "cell_type": "markdown",
   "id": "8927343a",
   "metadata": {},
   "source": [
    "### Introducción"
   ]
  },
  {
   "cell_type": "markdown",
   "id": "08d21d8c",
   "metadata": {},
   "source": [
    "### Dependencias "
   ]
  },
  {
   "cell_type": "markdown",
   "id": "c26fb1fa",
   "metadata": {},
   "source": [
    "### Paquetes python"
   ]
  },
  {
   "cell_type": "markdown",
   "id": "43c678be",
   "metadata": {},
   "source": [
    "pandas==1.4.4\n",
    "\n",
    "\n",
    "\n",
    "pandas-datareader==0.10.0\n",
    "\n",
    "\n",
    "\n",
    "yfinance==0.1.74\n",
    "\n",
    "\n",
    "\n",
    "numpy==1.23.2\n",
    "\n",
    "\n",
    "\n",
    "matplotlib==3.5.3"
   ]
  },
  {
   "cell_type": "markdown",
   "id": "280bcf55",
   "metadata": {},
   "source": [
    "### Arhivos a usar\n",
    "Desktop/Visual studio code/files/2020_01_2022_07 (1)/NAFTRAC_20200131.csv"
   ]
  },
  {
   "cell_type": "markdown",
   "id": "601f205a",
   "metadata": {},
   "source": [
    "### Instalar paquetes"
   ]
  },
  {
   "cell_type": "code",
   "execution_count": 1,
   "id": "8e1fa78b",
   "metadata": {},
   "outputs": [],
   "source": [
    "import pandas as pd\n",
    "import numpy as np\n",
    "import yfinance as yf\n",
    "import matplotlib.pyplot as plt"
   ]
  },
  {
   "cell_type": "code",
   "execution_count": null,
   "id": "37d5f307",
   "metadata": {},
   "outputs": [],
   "source": [
    "yahoodata=yf.download([\"AMXL.MX\",\"PINFRA.MX\",\"LABB.MX\",\"CUERVO.MX\",\"BOLSAA.MX\",\"LIVEPOLC-1.MX\",\"MEGACPO.MX\",\"BBAJIOO.MX\",\"KOFUBL.MX\",\"ALSEA.MX\",\"FEMSAUBD.MX\",\"GCARSOA1.MX\",\"ALFAA.MX\",\"ORBIA.MX\",\"GRUMAB.MX\",\"PE&OLES.MX\",\"GMEXICOB.MX\",\"GFNORTEO.MX\",\"WALMEX.MX\",\"GFINBURO.MX\",\"CEMEXCPO.MX\",\"TLEVISACPO.MX\",\"GAPB.MX\",\"ELEKTRA.MX\",\"ASURB.MX\",\"KIMBERA.MX\",\"BIMBOA.MX\",\"OMAB.MX\",\"AC.MX\"],start=\"2020-01-01\",end=\"2022-07-29\",interval=\"1mo\")\n",
    "data=pd.DataFrame(yahoodata).drop([\"Volume\",\"Low\",\"High\",\"Adj Close\",\"Open\"],axis=1).dropna()\n",
    "data\n",
    "yahoodata2=yf.download([\"AMXL.MX\",\"PINFRA.MX\",\"LABB.MX\",\"CUERVO.MX\",\"BOLSAA.MX\",\"LIVEPOLC-1.MX\",\"MEGACPO.MX\",\"BBAJIOO.MX\",\"KOFUBL.MX\",\"ALSEA.MX\",\"FEMSAUBD.MX\",\"GCARSOA1.MX\",\"ALFAA.MX\",\"ORBIA.MX\",\"GRUMAB.MX\",\"PE&OLES.MX\",\"GMEXICOB.MX\",\"GFNORTEO.MX\",\"WALMEX.MX\",\"GFINBURO.MX\",\"CEMEXCPO.MX\",\"TLEVISACPO.MX\",\"GAPB.MX\",\"ELEKTRA.MX\",\"ASURB.MX\",\"KIMBERA.MX\",\"BIMBOA.MX\",\"OMAB.MX\",\"AC.MX\"],start=\"2020-01-31\",end=\"2022-07-29\",interval=\"1d\")\n",
    "data2=pd.DataFrame(yahoodata2).drop([\"Volume\",\"Low\",\"High\",\"Adj Close\",\"Open\"],axis=1).dropna()\n",
    "data2"
   ]
  },
  {
   "cell_type": "markdown",
   "id": "5f46de85",
   "metadata": {},
   "source": [
    "Basicamente lo que tenemos en la celda de arriba son los precios mnesuales y diarios para cada estrategia, con la particularidad de que en la pasiva tomaremos en cuenta para el calculo de nuestros capitales el primer precio"
   ]
  },
  {
   "cell_type": "markdown",
   "id": "4aa06b73",
   "metadata": {},
   "source": [
    "### Resolución Inversión pasiva\n",
    "El proceso fue el siguiente:\n",
    "1. Asignar capital a cada acción según su peso \n",
    "2. Asignar el cash\n",
    "3. Calcular el numero de titulos a comprar por cada acción en base a su capital asignado\n",
    "4. Redondear hacia abajo el numero de titulos y ejecutar compras\n",
    "5. Asignar la diferencia entre capital asignado y capital usado a \"cash\"\n",
    "6. Determinar rendimientos mensuales\n",
    "7. Determinar el nuevo capital de cada mes en base a los rendimientos inmediatos anteriores \n",
    "8. El nuevo capital incluye lo que tenemos de cash\n",
    "9. Sumar rendimientos acumulados mensualmente\n",
    "\n"
   ]
  },
  {
   "cell_type": "markdown",
   "id": "f1fb1827",
   "metadata": {},
   "source": [
    "### Resolución inversión activa"
   ]
  },
  {
   "cell_type": "markdown",
   "id": "de0c04b0",
   "metadata": {},
   "source": [
    "El proceso fue el siguiente:\n",
    "1. Obtener rendimientos diraios logaritmicos para periodo de un año\n",
    "2. Crear un portafolio eficiente en media varianza"
   ]
  },
  {
   "cell_type": "markdown",
   "id": "1365f314",
   "metadata": {},
   "source": []
  }
 ],
 "metadata": {
  "kernelspec": {
   "display_name": "Python 3.10.6 64-bit",
   "language": "python",
   "name": "python3"
  },
  "language_info": {
   "codemirror_mode": {
    "name": "ipython",
    "version": 3
   },
   "file_extension": ".py",
   "mimetype": "text/x-python",
   "name": "python",
   "nbconvert_exporter": "python",
   "pygments_lexer": "ipython3",
   "version": "3.10.6"
  },
  "vscode": {
   "interpreter": {
    "hash": "aee8b7b246df8f9039afb4144a1f6fd8d2ca17a180786b69acc140d282b71a49"
   }
  }
 },
 "nbformat": 4,
 "nbformat_minor": 5
}
